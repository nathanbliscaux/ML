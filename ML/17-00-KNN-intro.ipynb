{
 "cells": [
  {
   "cell_type": "markdown",
   "id": "26995892",
   "metadata": {
    "slideshow": {
     "slide_type": "slide"
    }
   },
   "source": [
    "# $KNN$ calcul des $k$ plus proches voisins\n",
    "\n",
    "algorithme supervisé, non-paramétrique, de clustering"
   ]
  },
  {
   "cell_type": "markdown",
   "id": "1f2de45d",
   "metadata": {},
   "source": [
    "## les notations"
   ]
  },
  {
   "cell_type": "markdown",
   "id": "dd963714",
   "metadata": {},
   "source": [
    "$\\mathcal{X}$ est l'espace des $n$ observations d'entrée\n",
    "\n",
    "\n",
    "----------\n",
    "\n",
    "\n",
    "$x_{i, 1  \\leq i \\leq n} \\in \\mathcal{X}$ est une observation  \n",
    "appelées aussi un descripteur, un prédicteur, une variable indépendante...  \n",
    "elle contient les $d$ caractéristiques (features) décrivant les données d'entrée\n",
    "\n",
    "\n",
    "----------\n",
    "\n",
    "\n",
    "$\\mathcal{Y}$ est l'espace des $n$ sorties\n",
    "\n",
    "\n",
    "----------\n",
    "\n",
    "\n",
    "$y_{i, 1  \\leq i \\leq n} \\in \\mathcal{Y}$ est une sortie  \n",
    "appelée aussi variable dépendante, réponse, étiquettes (label)\n",
    "\n",
    "----------\n",
    "  \n",
    "  \n",
    "$\\mathcal{F} \\in \\mathcal{Y}^\\mathcal{X}$ est l'espace des fonctions de modélisation considérées pour faire nos prédictions  \n",
    "appelée: l'espace des hypothèses  \n",
    "(ici ce sont les modèles à base de **KNN**)\n",
    "\n",
    "ainsi, différents modèles pour l'apprentissage donneront différents espaces d'hypothèse\n",
    "\n",
    "Comment choisit-on cet espace des fonctions hypothèse ?  \n",
    "grâce à l'expertise et de manière empirique\n",
    "\n",
    "\n",
    "le choix de l'espace des hypothèses est fondamental:\n",
    "- l'espace est trop simple $\\Rightarrow$ on peut ne pas trouver de fonction correcte  \n",
    "possibilité de sous-apprentissage\n",
    "- l'espace est trop complexe (trop générique) $\\Rightarrow$ on peut ne pas trouver de fonction correcte  \n",
    "trop long à calculer  \n",
    "possibilité de sur-apprentissage\n",
    "\n",
    "----------\n",
    "  \n",
    "la tâche d'apprentissage:\n",
    "- on suppose que les $y_i$ ont été calculés par une fonction $\\mathcal{\\phi}: \\mathcal{X} \\rightarrow \\mathcal{Y}$  \n",
    "c'est notre fonction cible et naturellement on ne la connait pas  \n",
    "par contre on a des réalisations $(X_i, y_i)$ dont on veut en déduire cette fonction  \n",
    "(fonc\n",
    "\n",
    "\n",
    "\n",
    "- on cherche une fonction hypothèse $f \\in \\mathcal{F}$ qui approche **au mieux** $\\mathcal{\\phi}$\n",
    "  \n",
    "on a donc besoin de:\n",
    "- quantifier la qualité d'une hypothèse donc d'une **fonction de coût**  \n",
    "et de chercher une hypothèse optimale dans $\\mathcal{F}$ au sens de la fonction de coût  \n",
    "  \n",
    "----------\n",
    "\n",
    "- si la sortie est une classe $\\rightarrow$ **classification**\n",
    "\n",
    "- si la sortie est une valeur réelle $\\rightarrow$ **régression**"
   ]
  },
  {
   "cell_type": "markdown",
   "id": "463b9810",
   "metadata": {},
   "source": [
    "**Problème mal-posé** (Science Direct)\n",
    "\n",
    "https://www.sciencedirect.com/science/article/pii/S0165168420302723#:~:text=The%20inverse%20problem%20refers%20to,problem%20exists%20in%20many%20applications.\n",
    "\n",
    "[Deep Learning Methods for Solving Linear Inverse\n",
    "Problems: Research Directions and Paradigms](./deeplearning-solving-linear-inverse-problems_1-s2.0-S0165168420302723-am.pdf)\n",
    "\n",
    "The inverse problem refers to using the results of actual observations to infer the values of the parameters that characterize the system and to estimate data that are not easily directly observed.\n",
    "\n",
    "The inverse problem exists in many applications. In geophysics, the inverse problem is solved to detect mineral deposits such as underground oil based on the observations of an acoustic wave which is sent from the surface of the earth. In medical imaging, the inverse problem is solved to reconstruct an image of the internal structure of the human body based on the X-ray signal passing through the human body. In mechanical engineering, the inverse problem is solved to perform nondestructive testing by processing the scattered field on the surface, which avoids expensive and destructive evaluation. In imaging, the inverse problem is solved to recover images of high quality from the lossy image, for example, image denoising and image super-resolution (SR).\n",
    "\n",
    "Mathematically, the inverse problem can be described as the estimation of hidden parameters of the model $m \\in \\mathbb{R}^N$ from the observed data $d \\in \\mathbb{R}^M,$ where $N$ (possibly infinite) is the number of model parameters and $M$ is the dimension of observed data.\n",
    "\n",
    "A general description of the inverse problem is  \n",
    "$d = \\mathcal{A} (m)$ (1)  \n",
    "where $\\mathcal{A}$ is an operator (the forward operator) mapping the model space to the data space.\n",
    "\n",
    "An inverse problem is well-posed if it satisfies the following three properties:\n",
    "- *Existence:* For any data $d$, there exists an $m$ that satisfies (1)  \n",
    "which means there exists a model that fits the observed data\n",
    "- *Uniqueness:* For every $d$, if there are $m_1$ and $m_2$ that satisfy (1), then $m_1 = m_2$,  \n",
    "which means the model that fits the observed data is unique.\n",
    "- *Stability:* $\\mathcal{A}$ is a continuous map  \n",
    "which means small changes in the observed data $d$ will make small changes in the estimated model parameters $m$.\n",
    "\n",
    "\n",
    "If any of the three properties does not hold, the inverse problem is ill-posed.\n",
    "\n",
    "Établir un prédicteur en utilisant la minimisation du risque empirique (i.e. l'erreur sur le jeu de données) est un problème mal-posé. "
   ]
  },
  {
   "cell_type": "markdown",
   "id": "602266d4",
   "metadata": {
    "slideshow": {
     "slide_type": "slide"
    }
   },
   "source": [
    "## l'idée des KNN\n",
    "\n",
    "   - trouver les $k$ observations les plus proches d'une observation   \n",
    "   - utiliser ces voisins pour déduire la sortie (classe ou valeur) de l'observation\n",
    "   \n",
    "ce modèle est dit **non paramétrique** seul $k$ doit être fixé, ensuite il se base uniquement sur les données d'entraînement  \n",
    "(i.e. aucun paramètre à déterminer...)\n",
    "   "
   ]
  },
  {
   "cell_type": "markdown",
   "id": "6ee5ec9a",
   "metadata": {
    "slideshow": {
     "slide_type": "slide"
    }
   },
   "source": [
    "## le problème\n",
    "\n",
    ">étant donnés:\n",
    ">- un ensemble de points $\\mathcal{X}$ dans un espace métrique $E$\n",
    ">- un entier $0 < k < n$\n",
    ">- un point $x$\n",
    ">\n",
    "> trouver les $k$ points les plus proches de $x$  \n",
    "> et les utiliser pour prédire l'appartenance à une classe (classification) ou une valeur (régression)\n",
    "\n",
    "\n",
    "on doit donc calculer des distances entre des points de $E$ et $x$ (ici point = observation)  \n",
    "d'où la nécessité d'avoir un espace métrique  \n",
    "i.e. *un ensemble au sein duquel une notion de distance entre les éléments de l'ensemble est définie* (Wikipedia)\n",
    "\n",
    "les descripteurs doivent être de type numérique (pour le calcul de la distance)  "
   ]
  },
  {
   "cell_type": "markdown",
   "id": "15747d41",
   "metadata": {},
   "source": [
    "**et déjà des problèmes...**\n",
    "\n",
    "**1) à cause de *la malédiction de la grande dimensionnalité***  \n",
    "les descripteurs doivent être peu nombreux\n",
    "- quand le nombre de descripteurs (la dimension de notre problème) augmente\n",
    "- les mesures de distance deviennent de moins en moins discriminantes\n",
    "- i.e. plus le nombre de descripteurs est grand et plus les valeurs des distances vont avoir tendance à être les mêmes pour les différents couples de points\n",
    "- plus la dimension est grande plus il nous faut d'observations...\n",
    "\n",
    "**2) à cause de plages de valeurs trop différentes dans nos données**  \n",
    "le calcul de la distance euclidienne sera dominé par l'attribut qui a la plage de valeur la plus grande  \n",
    "e.g. pour les attributs $A_1 \\in [0, 1]$ et $A_2 \\in [1000, 10000]$ $A_2$ va clairement dominer le calcul  \n",
    "on doit pré-traiter les données pour leur *mise à l'échelle*  avant de pouvoir les utiliser  \n",
    "(ici pour calculer la proximité entre deux observations)  \n",
    "**mise à l'échelle:**  \n",
    "- on redimensionne les intervalles des valeurs des attributs pour mettre leurs valeurs valeurs sur une échelle commune  \n",
    "- par exemple $[0, 1]$ pour le min-max $\\dfrac{x - min}{max - min}$  \n",
    "(si données à peu près uniformément réparties sur l'intervalle  genre age)  \n",
    "- ou encore par normalisation $\\dfrac{x - mean}{std}$  \n",
    "(si données mal réparties genre salaires)\n",
    "\n",
    "(mais vous pouvez aussi essayer les deux approches et évaluer leur influence sur votre modèle)\n",
    "\n",
    "**3) à cause des choix à faire ...**\n",
    "\n",
    "Si l'observation est à égale distance de deux observations différentes:\n",
    "- Quelle observation sera considérée dans les KNN voisins ?\n",
    "- La première qui sera vue par l'algorithme ?\n",
    "- Peut-être l'algorithme ne regardera même pas la seconde (il a déjà $k-1$ observations et en cherche une)\n",
    "- Le résultat va dépendre de l'ordre dans lequel les observations sont présentées à l'algorithme\n",
    "- On a donc un non-déterminisme (comme souvent en machine-learning)"
   ]
  },
  {
   "cell_type": "markdown",
   "id": "9a1f2c4e",
   "metadata": {},
   "source": [
    "**et des choix...**  \n",
    "- choisir la distance euclidiennt ($\\sum^n_{i=1} |x^1_i- x^2_i|$), Manhattan ($\\sqrt{\\sum^n_{i=1} (x^1_i- x^2_i)^2}$), ...\n",
    "- choisir $k$"
   ]
  },
  {
   "cell_type": "markdown",
   "id": "7a934831",
   "metadata": {
    "slideshow": {
     "slide_type": "slide"
    }
   },
   "source": [
    "## les algorithmes...\n",
    "\n",
    "- on calcule toutes les distances entre le point $x$ et les points de l'espace $E$, on retient les $k$ plus petites (naïf et cher en temps de calcul)\n",
    "- ou (identique) on calcule $k$ fois le plus proche voisin sans reconsidérer les points déjà vus (naïf et cher en temps de calcul)\n",
    "\n",
    "\n",
    "- on base l'algorithme sur un partitionnement de l'espace, comme les arbres $kd$ (de dimension $k$) (voir https://fr.wikipedia.org/wiki/Arbre_kd)\n",
    "- ..."
   ]
  },
  {
   "cell_type": "markdown",
   "id": "d2fa7568",
   "metadata": {},
   "source": [
    "## la classification\n",
    "\n",
    "$y$ est de type catégorie  \n",
    "c'est une valeur dans une classe de valeurs  \n",
    "\n",
    "- on utilise les $k$ observations les plus proches d'une nouvelle observation pour calculer $y$\n",
    "- pour une classe, on retient la classe *la plus représentée* autour de l'observation (un vote)"
   ]
  },
  {
   "cell_type": "markdown",
   "id": "d09d24f5",
   "metadata": {},
   "source": [
    "## régression"
   ]
  },
  {
   "cell_type": "markdown",
   "id": "dc2ff565",
   "metadata": {},
   "source": [
    "$y$ est de type quantitatif  \n",
    "c'est une valeur réelle\n",
    "\n",
    "- on utilise les $k$ observations les plus proches d'une nouvelle observation pour calculer $y$\n",
    "- en faisant une somme pondérée\n",
    "\n",
    "la sortie (numérique i.e. prédiction d'un réel) sur les $k$ plus proches voisins est:\n",
    "\n",
    "   - $y_q = \\dfrac{\\sum_{i=1}^k w_i x_i}{\\sum_{i=1}^k w_i}$\n",
    "   - $w_i$ est une pondération\n",
    "   - si on associe le poids $1/k$ pour les $k$ plus proches voisins et $0$ aux autres points  \n",
    "     on retrouve la moyenne\n",
    "\n",
    "   \n",
    "autre pondération ?\n",
    "   - on peut pondérer les voisins suivant leur proximité  \n",
    "   par exemple, on peut choisir comme poids $1/d$, $d$ étant la distance au voisin considéré  \n",
    "   (plus le voisin est proche plus il contribue à la prédiction)\n",
    "   \n",
    "   \n",
    "on peut faire de même pour une classification et donner un poids au $k$ plus proches voisins suivant les distances\n",
    "\n",
    "en conclusion sur les pondérations\n",
    "\n",
    "   - on attribue un poids à toutes les observations de notre jeu de données d'apprentissage\n",
    "\n",
    "   - notre prédiction peut se calculer en sommant sur toutes les observations pas simplement les $k$\n",
    "\n",
    "   - $y_q = \\dfrac{\\sum_{i=1}^N w_i y_i}{\\sum_{i=1}^N w_i}$\n",
    "\n",
    "   - on peut aussi exprimer ce poids comme une distance\n",
    "\n",
    "   - $y_q = \\dfrac{\\sum_{i=1}^N (1/distance(X_q, X_i)) y_i}{\\sum_{i=1}^N (1/distance(X_q, X_i))}$  \n",
    "   ($1/d$ parce qu'on est inversement proportionnel à la distance: plus on est proche mieux c'est)\n",
    "\n",
    "----------\n",
    "\n",
    "**notion de *noyau* de l'espace**\n",
    "\n",
    "   - considérer une région à la place d'un nombre de voisins\n",
    "   \n",
    "   - un noyau est une fonction de la distance entre le point et tous les autres points de l'espace\n",
    "   \n",
    "   \n",
    "$y_q = \\dfrac{\\sum_{i=1}^N kernel_\\lambda(distance(X_i, X_q)) \\; y_i}{\\sum_{i=1}^N kernel_\\lambda(distance(X_i, X_q))}$\n",
    "\n",
    "   - le noyau détermine la manière dont les poids vont diminuer\n",
    "\n",
    "   - le paramètre $\\lambda$ détermine la région (la *bande passante*)\n",
    "\n",
    "----------\n",
    "\n",
    "**note**:\n",
    "   - quand les données sont denses, KNN est bon\n",
    "   - il reste très sensible au bruit dans les données\n",
    "   - et surtout KNN n'est pas bon quand vous avez des trous dans vos données et qu'il vous faut les interpoler\n",
    "\n",
    "----------\n",
    "\n",
    "**Comment déterminer $k$ ?**\n",
    "\n",
    "on est en apprentissage supervisé, on var faire une classique cross-validation\n",
    "- prendre des ensemble d'apprentissage et des ensemble de test\n",
    "- faire varier $k$\n",
    "- calculer erreur d'apprentissage (biais) et l'erreur de généralisation (variance)\n",
    "- et garder le meilleur compromis pour $k$ i.e. ni en sous-apprentissage ni en sur-apprentissage"
   ]
  },
  {
   "cell_type": "markdown",
   "id": "c2299fc2",
   "metadata": {},
   "source": [
    "END"
   ]
  }
 ],
 "metadata": {
  "kernelspec": {
   "display_name": "Python 3 (ipykernel)",
   "language": "python",
   "name": "python3"
  },
  "language_info": {
   "codemirror_mode": {
    "name": "ipython",
    "version": 3
   },
   "file_extension": ".py",
   "mimetype": "text/x-python",
   "name": "python",
   "nbconvert_exporter": "python",
   "pygments_lexer": "ipython3",
   "version": "3.9.12"
  }
 },
 "nbformat": 4,
 "nbformat_minor": 5
}
