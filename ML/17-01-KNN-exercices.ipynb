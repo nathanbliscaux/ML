{
 "cells": [
  {
   "cell_type": "markdown",
   "id": "19445d1c",
   "metadata": {},
   "source": [
    "# Régression par KNN"
   ]
  },
  {
   "cell_type": "code",
   "execution_count": null,
   "id": "090061cf",
   "metadata": {},
   "outputs": [],
   "source": [
    "import numpy as np\n",
    "import pandas as pd\n",
    "import matplotlib as mpl\n",
    "import matplotlib.pyplot as plt"
   ]
  },
  {
   "cell_type": "code",
   "execution_count": null,
   "id": "6a040a16",
   "metadata": {},
   "outputs": [],
   "source": [
    "mpl.rcParams['figure.figsize'] = (4, 3)"
   ]
  },
  {
   "cell_type": "code",
   "execution_count": null,
   "id": "cf6c0fd1",
   "metadata": {},
   "outputs": [],
   "source": [
    "! pip install scikit-learn"
   ]
  },
  {
   "cell_type": "code",
   "execution_count": null,
   "id": "b5f1f3ea",
   "metadata": {
    "lines_to_next_cell": 0
   },
   "outputs": [],
   "source": [
    "from sklearn.neighbors import KNeighborsRegressor\n",
    "from sklearn.neighbors import KNeighborsClassifier\n",
    "from sklearn import metrics"
   ]
  },
  {
   "cell_type": "markdown",
   "id": "82c724f0",
   "metadata": {},
   "source": [
    "## prédiction d'un sinus"
   ]
  },
  {
   "cell_type": "markdown",
   "id": "1ecb1e65",
   "metadata": {},
   "source": [
    "**création du sinus  bruité**"
   ]
  },
  {
   "cell_type": "markdown",
   "id": "c4c38a1a",
   "metadata": {},
   "source": [
    "on crée un sinus avec $N$ points entre $0$ et $2\\pi$ "
   ]
  },
  {
   "cell_type": "code",
   "execution_count": null,
   "id": "e7d0eb9f",
   "metadata": {},
   "outputs": [],
   "source": [
    "N = 100\n",
    "X = np.linspace(0, 2*np.pi, N)\n",
    "a = 2\n",
    "y = a*np.sin(X) # on augmente l'amplitude de notre sinus¨\n",
    "plt.plot(X, y);"
   ]
  },
  {
   "cell_type": "markdown",
   "id": "c92cecbf",
   "metadata": {},
   "source": [
    "on bruite notre sinus en modifiant un point sur $p$ avec une valeur aléatoirement générée d'une distribution uniforme entre $[0, 1[$  \n",
    "(entre 0 et 1, donc le milieu est 0.5)"
   ]
  },
  {
   "cell_type": "code",
   "execution_count": null,
   "id": "9d2f04a5",
   "metadata": {},
   "outputs": [],
   "source": [
    "p = 5\n",
    "middle = 0.5\n",
    "noise = middle - np.random.rand(N//p)\n",
    "# on veut des valeurs négatives aussi !"
   ]
  },
  {
   "cell_type": "code",
   "execution_count": null,
   "id": "3fd623f5",
   "metadata": {},
   "outputs": [],
   "source": [
    "y[0:len(y):5].shape, noise.shape"
   ]
  },
  {
   "cell_type": "code",
   "execution_count": null,
   "id": "3190a867",
   "metadata": {},
   "outputs": [],
   "source": [
    "y[::p] = y[::p] + noise # remarquez le slicing\n",
    "plt.plot(X, y);"
   ]
  },
  {
   "cell_type": "markdown",
   "id": "f01ca638",
   "metadata": {},
   "source": [
    "on fait une dataframe"
   ]
  },
  {
   "cell_type": "code",
   "execution_count": null,
   "id": "300fd334",
   "metadata": {},
   "outputs": [],
   "source": [
    "df_sinus = pd.DataFrame()\n",
    "df_sinus['X'] = X\n",
    "df_sinus['y'] = y\n",
    "df_sinus.plot(x='X', y='y');\n",
    "# df_sinus.plot()"
   ]
  },
  {
   "cell_type": "markdown",
   "id": "3289814a",
   "metadata": {},
   "source": [
    "**plages de valeurs**"
   ]
  },
  {
   "cell_type": "markdown",
   "id": "117f1508",
   "metadata": {},
   "source": [
    "pas besoin de faire de mise à l'échelle dans notre exemple, on n'a qu'une seule colonne...  "
   ]
  },
  {
   "cell_type": "code",
   "execution_count": null,
   "id": "1aa6bdeb",
   "metadata": {},
   "outputs": [],
   "source": [
    "df_sinus['X'].min(), df_sinus['X'].max()"
   ]
  },
  {
   "cell_type": "code",
   "execution_count": null,
   "id": "22bee3ba",
   "metadata": {},
   "outputs": [],
   "source": [
    "df_sinus.describe()"
   ]
  },
  {
   "cell_type": "markdown",
   "id": "d5c459a5",
   "metadata": {},
   "source": [
    "### entraînement d'un prédicteur par KNN-régression"
   ]
  },
  {
   "cell_type": "code",
   "execution_count": null,
   "id": "01c5d0ef",
   "metadata": {
    "lines_to_next_cell": 0
   },
   "outputs": [],
   "source": [
    "from sklearn.neighbors import KNeighborsRegressor\n",
    "from sklearn.neighbors import KNeighborsClassifier\n",
    "from sklearn import metrics"
   ]
  },
  {
   "cell_type": "markdown",
   "id": "7b4848f1",
   "metadata": {},
   "source": [
    "`KNeighborsRegressor(n_neighbors=5, *, weights='uniform', algorithm='auto', leaf_size=30, p=2, metric='minkowski', metric_params=None, n_jobs=None)`"
   ]
  },
  {
   "cell_type": "code",
   "execution_count": null,
   "id": "3ff3a63a",
   "metadata": {},
   "outputs": [],
   "source": [
    "# help(KNeighborsRegressor)"
   ]
  },
  {
   "cell_type": "markdown",
   "id": "43607c86",
   "metadata": {},
   "source": [
    "les paramètres de la méthode (ceux qui nous intéressent aujourd'hui)\n",
    "\n",
    "\n",
    "- `n_neighbors` le $k$ (qui ici peut varier de $1$ à $100$)\n",
    "\n",
    "\n",
    "- `weights` la pondération  \n",
    "par défaut `'uniform'`  \n",
    "peut-être `'distance'` (inverse de la distance)  \n",
    "une une fonction à vous\n",
    "\n",
    "\n",
    "- `algorithm` l'algorithme utilisé pour le calcul des $k$ plus proches voisins  \n",
    "par défaut `'auto'` qui essaie de prendre le meilleur  \n",
    "`'ball_tree'`, `'kd_tree'`, `'brute'` (brute-force search)\n",
    "\n",
    "- `metric` la fonction de calcul de distance  \n",
    "par défaut `'minkowski'` auquel on peut indiquer `p` (standard Euclidean distance quand p vaut 2)\n",
    "\n",
    "\n",
    "- et d'autres paramètres, comme `p`, qui dépendent de nos autres choix de paramètres"
   ]
  },
  {
   "cell_type": "code",
   "execution_count": null,
   "id": "06ef52a6",
   "metadata": {},
   "outputs": [],
   "source": [
    "n_neighbors = 8\n",
    "\n",
    "# on construit un prédicteur de régression par KNN avec k = n_neighbors\n",
    "knn_model = KNeighborsRegressor(n_neighbors=n_neighbors)\n",
    "\n",
    "# un autre pour tester\n",
    "knn_sinus = KNeighborsRegressor(n_neighbors=n_neighbors)"
   ]
  },
  {
   "cell_type": "code",
   "execution_count": null,
   "id": "b926a396",
   "metadata": {},
   "outputs": [],
   "source": [
    "# on sépare entrées et sorties pour l'entraînement\n",
    "X = df_sinus[['X']].to_numpy()\n",
    "y = df_sinus['y'].to_numpy()\n",
    "\n",
    "X.shape, y.shape"
   ]
  },
  {
   "cell_type": "code",
   "execution_count": null,
   "id": "c3f91451",
   "metadata": {},
   "outputs": [],
   "source": [
    "# on entraîne le modèle sur un tableau numpy\n",
    "knn_sinus.fit(X, y);"
   ]
  },
  {
   "cell_type": "code",
   "execution_count": null,
   "id": "95d176df",
   "metadata": {},
   "outputs": [],
   "source": [
    "# on entraîne le modèle sur un tableau pandas\n",
    "knn_model.fit(df_sinus[['X']], df_sinus['y']);"
   ]
  },
  {
   "cell_type": "markdown",
   "id": "21e9d55a",
   "metadata": {},
   "source": [
    "### prédiction des données d'entraînement"
   ]
  },
  {
   "cell_type": "markdown",
   "id": "4167be77",
   "metadata": {},
   "source": [
    "le modèle a été entraîné, on peut prédire des valeurs  \n",
    "par exemple celles du jeu d'entraînement"
   ]
  },
  {
   "cell_type": "code",
   "execution_count": null,
   "id": "93bae389",
   "metadata": {},
   "outputs": [],
   "source": [
    "# on prédit les données d'entraînement avec le prédicteur\n",
    "y_fit = knn_model.predict(df_sinus[['X']])"
   ]
  },
  {
   "cell_type": "code",
   "execution_count": null,
   "id": "d358fec2",
   "metadata": {},
   "outputs": [],
   "source": [
    "# on plot les données générées\n",
    "plt.plot(df_sinus['X'], y_fit)"
   ]
  },
  {
   "cell_type": "markdown",
   "id": "5549ba88",
   "metadata": {},
   "source": [
    "on obtient un sinus moins bruité"
   ]
  },
  {
   "cell_type": "markdown",
   "id": "a334f4e0",
   "metadata": {},
   "source": [
    "pourquoi y-a-t-il les zones horizontales en début et en fin de prédiction ?  \n",
    "à cause de la non existence des plus proches voisins"
   ]
  },
  {
   "cell_type": "markdown",
   "id": "d46d674e",
   "metadata": {},
   "source": [
    "### qualité du prédicteur - métriques\n",
    "\n",
    "on calcule les erreurs"
   ]
  },
  {
   "cell_type": "markdown",
   "id": "afa796fb",
   "metadata": {},
   "source": [
    "calculons la RMSE (root-mean-square-error) et la MSE (mean-square-error)"
   ]
  },
  {
   "cell_type": "code",
   "execution_count": null,
   "id": "c3cef2ae",
   "metadata": {},
   "outputs": [],
   "source": [
    "np.sqrt(np.sum(np.power(y_fit - df_sinus['y'], 2))/len(df_sinus))"
   ]
  },
  {
   "cell_type": "markdown",
   "id": "7d3edaea",
   "metadata": {},
   "source": [
    "en fait on a des tas de métriques prédéfinies dans `metrics`  \n",
    "utilisons `metrics.mean_squared_error`  \n",
    "`squared` is True it is MSE value, RMSE if False"
   ]
  },
  {
   "cell_type": "code",
   "execution_count": null,
   "id": "c6e01ab5",
   "metadata": {},
   "outputs": [],
   "source": [
    "metrics.mean_squared_error(y_fit, df_sinus['y'], squared=False)"
   ]
  },
  {
   "cell_type": "code",
   "execution_count": null,
   "id": "7c2cd480",
   "metadata": {},
   "outputs": [],
   "source": [
    "np.sum(np.power(y_fit - df_sinus['y'], 2))/len(df_sinus)"
   ]
  },
  {
   "cell_type": "code",
   "execution_count": null,
   "id": "3a591194",
   "metadata": {},
   "outputs": [],
   "source": [
    "metrics.mean_squared_error(y_fit, df_sinus['y'], squared=True)"
   ]
  },
  {
   "cell_type": "markdown",
   "id": "fe3df388",
   "metadata": {},
   "source": [
    "### prédiction de données de tests"
   ]
  },
  {
   "cell_type": "markdown",
   "id": "7cc4b4f5",
   "metadata": {},
   "source": [
    "### sur tableau `numpy`"
   ]
  },
  {
   "cell_type": "markdown",
   "id": "5489dfdd",
   "metadata": {},
   "source": [
    "on génère de nouveaux points linéairement espacés entre $0$ et $2 \\pi$"
   ]
  },
  {
   "cell_type": "code",
   "execution_count": null,
   "id": "1b893567",
   "metadata": {},
   "outputs": [],
   "source": [
    "n = 500\n",
    "pts = np.linspace(0, 2*np.pi, n)\n",
    "pts.shape"
   ]
  },
  {
   "cell_type": "markdown",
   "id": "da8bc8d8",
   "metadata": {},
   "source": [
    "lors de l'entraînement, la forme de tableau était une matrice $(100, 1)$ i.e. $100$ lignes et $1$ colonne  \n",
    "les prédictions se feront donc sur des tableaux de cette forme $(n, 1)$"
   ]
  },
  {
   "cell_type": "code",
   "execution_count": null,
   "id": "f8919ce6",
   "metadata": {},
   "outputs": [],
   "source": [
    "df_sinus[['X']].shape, X.shape\n",
    "# le premier est un tableau pandas le second un tableau numpy"
   ]
  },
  {
   "cell_type": "markdown",
   "id": "99c217ae",
   "metadata": {},
   "source": [
    "la forme du tableau généré n'est pas la bonne: on doit la modifier pour obtenuir les prédictions"
   ]
  },
  {
   "cell_type": "code",
   "execution_count": null,
   "id": "70c4727c",
   "metadata": {},
   "outputs": [],
   "source": [
    "pts.shape"
   ]
  },
  {
   "cell_type": "markdown",
   "id": "95bc8026",
   "metadata": {},
   "source": [
    "on lui donne la forme d'une matrice de $n$ observstions et $1$ colonne"
   ]
  },
  {
   "cell_type": "code",
   "execution_count": null,
   "id": "54a01662",
   "metadata": {},
   "outputs": [],
   "source": [
    "pts = pts.reshape(-1, 1)\n",
    "pts.shape"
   ]
  },
  {
   "cell_type": "code",
   "execution_count": null,
   "id": "20d7293d",
   "metadata": {},
   "outputs": [],
   "source": [
    "type(pts)"
   ]
  },
  {
   "cell_type": "code",
   "execution_count": null,
   "id": "a378111b",
   "metadata": {},
   "outputs": [],
   "source": [
    "y_pred = knn_sinus.predict(pts)"
   ]
  },
  {
   "cell_type": "code",
   "execution_count": null,
   "id": "1703426f",
   "metadata": {},
   "outputs": [],
   "source": [
    "plt.plot(y_pred);"
   ]
  },
  {
   "cell_type": "markdown",
   "id": "f54166fe",
   "metadata": {},
   "source": [
    "### sur tableau `pandas`"
   ]
  },
  {
   "cell_type": "markdown",
   "id": "4064a942",
   "metadata": {},
   "source": [
    "on génère de nouveaux points linéairement espacés entre $0$ et $2 \\pi$"
   ]
  },
  {
   "cell_type": "code",
   "execution_count": null,
   "id": "12c152e2",
   "metadata": {},
   "outputs": [],
   "source": [
    "n = 100\n",
    "df_pred = pd.DataFrame(np.linspace(0, 2*np.pi, n),\n",
    "                      columns=['X'])\n",
    "df_pred.head()"
   ]
  },
  {
   "cell_type": "code",
   "execution_count": null,
   "id": "f3643c21",
   "metadata": {},
   "outputs": [],
   "source": [
    "df_pred['y'] = knn_model.predict(df_pred[['X']])"
   ]
  },
  {
   "cell_type": "code",
   "execution_count": null,
   "id": "aabab606",
   "metadata": {},
   "outputs": [],
   "source": [
    "plt.plot(df_pred['X'], df_pred['y']);"
   ]
  },
  {
   "cell_type": "markdown",
   "id": "3fcb4a23",
   "metadata": {},
   "source": [
    "pourquoi y-a-t-il les zones horizontales en début et en fin de prédiction ?  \n",
    "à cause de la non existence des plus proches voisins"
   ]
  },
  {
   "cell_type": "markdown",
   "id": "bf752595",
   "metadata": {},
   "source": [
    "qualité du sinus ?  \n",
    "qualité de la prédiction ?  \n",
    "les données pour la prédiction ont-elles la même distibution que les données d'entraînement ? heu non"
   ]
  },
  {
   "cell_type": "code",
   "execution_count": null,
   "id": "147a2c5b",
   "metadata": {},
   "outputs": [],
   "source": [
    "metrics.mean_squared_error(np.sin(df_pred['X']), df_pred['y'], squared=False)"
   ]
  },
  {
   "cell_type": "markdown",
   "id": "ac8860b8",
   "metadata": {},
   "source": [
    "## mise à l'échelle des caractéristiques"
   ]
  },
  {
   "cell_type": "code",
   "execution_count": null,
   "id": "bb568b83",
   "metadata": {},
   "outputs": [],
   "source": [
    "from sklearn.preprocessing import StandardScaler, MinMaxScaler"
   ]
  },
  {
   "cell_type": "markdown",
   "id": "45096221",
   "metadata": {},
   "source": [
    "on fait une dataframe avec 2 colonnes dont les plages de valeurs sont très différentes"
   ]
  },
  {
   "cell_type": "code",
   "execution_count": null,
   "id": "3e4a818c",
   "metadata": {},
   "outputs": [],
   "source": [
    "df = pd.DataFrame()\n",
    "m1, s1 = 1, 4.8\n",
    "m2, s2 = 100, 7.2\n",
    "df['X1'] = (np.random.rand(100)+m1)*s1\n",
    "df['X2'] = (np.random.rand(100)+m2)*s2\n",
    "df.plot();\n",
    "df.head()"
   ]
  },
  {
   "cell_type": "markdown",
   "id": "9233dc3c",
   "metadata": {},
   "source": [
    "on met à l'échelle par normalisation"
   ]
  },
  {
   "cell_type": "code",
   "execution_count": null,
   "id": "8f377c43",
   "metadata": {},
   "outputs": [],
   "source": [
    "tab = StandardScaler().fit(df).transform(df)"
   ]
  },
  {
   "cell_type": "code",
   "execution_count": null,
   "id": "6d6bfe19",
   "metadata": {},
   "outputs": [],
   "source": [
    "df_std_scaled = pd.DataFrame(tab, columns=df.columns)\n",
    "df_std_scaled.plot()"
   ]
  },
  {
   "cell_type": "markdown",
   "id": "6fbe3f6a",
   "metadata": {},
   "source": [
    "on met à l'échelle par min-max"
   ]
  },
  {
   "cell_type": "code",
   "execution_count": null,
   "id": "2be8cb50",
   "metadata": {},
   "outputs": [],
   "source": [
    "tab = MinMaxScaler().fit(df).transform(df)\n",
    "\n",
    "df_min_max_scaled = pd.DataFrame(tab, columns=df.columns)\n",
    "df_min_max_scaled.plot()"
   ]
  },
  {
   "cell_type": "markdown",
   "id": "a8da033e",
   "metadata": {},
   "source": [
    "## jeu d'entraînement et jeu de test (validation)"
   ]
  },
  {
   "cell_type": "markdown",
   "id": "4219dd6b",
   "metadata": {},
   "source": [
    "découpons les observations dont nous disposons en\n",
    "- un jeu de d'entraînement\n",
    "- un  jeu de test"
   ]
  },
  {
   "cell_type": "code",
   "execution_count": null,
   "id": "3855a997",
   "metadata": {},
   "outputs": [],
   "source": [
    "from sklearn.model_selection import train_test_split"
   ]
  },
  {
   "cell_type": "code",
   "execution_count": null,
   "id": "c453171c",
   "metadata": {},
   "outputs": [],
   "source": [
    "df_iris = pd.read_csv('./iris.csv')\n",
    "df_iris.head()"
   ]
  },
  {
   "cell_type": "code",
   "execution_count": null,
   "id": "0e03c6ca",
   "metadata": {},
   "outputs": [],
   "source": [
    "X = df_iris.iloc[:, :-1]\n",
    "y = df_iris['Species']"
   ]
  },
  {
   "cell_type": "markdown",
   "id": "e3edff4b",
   "metadata": {},
   "source": [
    "### à-la-main"
   ]
  },
  {
   "cell_type": "markdown",
   "id": "ecbf973e",
   "metadata": {},
   "source": [
    "peut être faux  \n",
    "préférez les fonctions `sklearn`"
   ]
  },
  {
   "cell_type": "code",
   "execution_count": null,
   "id": "6947d627",
   "metadata": {},
   "outputs": [],
   "source": [
    "t = 0.20\n",
    "nb = len(X) - int(len(X)*t)\n",
    "X_train, X_test = X[:nb], X[nb:]\n",
    "y_train, y_test = y[:nb], y[nb:]"
   ]
  },
  {
   "cell_type": "code",
   "execution_count": null,
   "id": "2188916e",
   "metadata": {},
   "outputs": [],
   "source": [
    "X_train.shape, X_test.shape, y_train.shape, y_test.shape"
   ]
  },
  {
   "cell_type": "markdown",
   "id": "cabf4192",
   "metadata": {},
   "source": [
    "Que pensez-vous de ce split ?"
   ]
  },
  {
   "cell_type": "code",
   "execution_count": null,
   "id": "686de17c",
   "metadata": {},
   "outputs": [],
   "source": [
    "y_train.value_counts()"
   ]
  },
  {
   "cell_type": "code",
   "execution_count": null,
   "id": "b74bf8f4",
   "metadata": {},
   "outputs": [],
   "source": [
    "y_test.value_counts()"
   ]
  },
  {
   "cell_type": "markdown",
   "id": "6054fb4f",
   "metadata": {},
   "source": [
    "les données du `csv` sont ordonnées"
   ]
  },
  {
   "cell_type": "markdown",
   "id": "73ba2fe8",
   "metadata": {},
   "source": [
    "### avec `train_test_split`"
   ]
  },
  {
   "cell_type": "markdown",
   "id": "627a6d07",
   "metadata": {},
   "source": [
    "la méthode `train_test_split` prend des paramètres:  \n",
    "`test_size` et `train_size`  \n",
    "`random_state` (reproduction de shuffling)  \n",
    "`shuffle`"
   ]
  },
  {
   "cell_type": "code",
   "execution_count": null,
   "id": "3f764f0a",
   "metadata": {},
   "outputs": [],
   "source": [
    "X_train, X_test, y_train, y_test = \\\n",
    "   train_test_split(X, y, test_size=0.2, random_state=4)"
   ]
  },
  {
   "cell_type": "code",
   "execution_count": null,
   "id": "ea73fbac",
   "metadata": {},
   "outputs": [],
   "source": [
    "train_test_split?"
   ]
  },
  {
   "cell_type": "markdown",
   "id": "66b221dd",
   "metadata": {},
   "source": [
    "## grid-search"
   ]
  },
  {
   "cell_type": "markdown",
   "id": "55b46e52",
   "metadata": {},
   "source": [
    "nous voulons déterminer les meilleurs paramètres  \n",
    "par exemple, dans le knn, on voudrait tester différentes cominaisons de  \n",
    "`k`, de distance, de pondérations, d'algorithme..."
   ]
  },
  {
   "cell_type": "markdown",
   "id": "15f730d5",
   "metadata": {},
   "source": [
    "### à-la-main pour `k`"
   ]
  },
  {
   "cell_type": "code",
   "execution_count": null,
   "id": "e63f7635",
   "metadata": {},
   "outputs": [],
   "source": [
    "errors = []\n",
    "for k in range(1, 100):\n",
    "    knn_model = KNeighborsRegressor(k)\n",
    "    knn_model.fit(df_sinus[['X']], df_sinus['y'])\n",
    "    y_fit = knn_model.predict(df_sinus[['X']])\n",
    "    errors.append(metrics.mean_squared_error(y_fit,\n",
    "                                             df_sinus['y'], squared=True))"
   ]
  },
  {
   "cell_type": "markdown",
   "id": "f3774cf8",
   "metadata": {},
   "source": [
    "on a gardé les erreurs, on peut les plotter"
   ]
  },
  {
   "cell_type": "code",
   "execution_count": null,
   "id": "95be7ad2",
   "metadata": {},
   "outputs": [],
   "source": [
    "plt.plot(errors)\n",
    "plt.xlabel('k')\n",
    "plt.ylabel('MSE')\n",
    "plt.title('K Neighbors Regressor');"
   ]
  },
  {
   "cell_type": "markdown",
   "id": "7f103721",
   "metadata": {},
   "source": [
    "comme il va falloir conserver les combinaisons et leur qualité  \n",
    "autant utiliser des méthodes pré-définies comme le `GridSearchCV`"
   ]
  },
  {
   "cell_type": "markdown",
   "id": "a71aaafd",
   "metadata": {},
   "source": [
    "### avec `GridSearchCV`"
   ]
  },
  {
   "cell_type": "code",
   "execution_count": null,
   "id": "507a7029",
   "metadata": {},
   "outputs": [],
   "source": [
    "from sklearn.model_selection import GridSearchCV"
   ]
  },
  {
   "cell_type": "markdown",
   "id": "b1d13141",
   "metadata": {},
   "source": [
    "pour déterminer empiriquement des méta-parameters, on utilise le grid-search  \n",
    "c'est une manière automatique de lancer l'apprentissage sur des combinaisons de valeurs des paramètres   \n",
    "afin de déterminer la meilleure combinaison"
   ]
  },
  {
   "cell_type": "markdown",
   "id": "d98c163b",
   "metadata": {},
   "source": [
    "on donne un dictionnaire\n",
    "- avec comme clé les paramètres dont on veut tester les valeurs\n",
    "- comme valeurs les valeurs choisiesà et les valeurs à utilise"
   ]
  },
  {
   "cell_type": "markdown",
   "id": "960af59e",
   "metadata": {},
   "source": [
    "créons un classifier  \n",
    "affichons ses paramètres et leurs valeurs dans ce classifier"
   ]
  },
  {
   "cell_type": "code",
   "execution_count": null,
   "id": "51db2f05",
   "metadata": {},
   "outputs": [],
   "source": [
    "knn = KNeighborsClassifier()\n",
    "knn.get_params()"
   ]
  },
  {
   "cell_type": "code",
   "execution_count": null,
   "id": "840da198",
   "metadata": {},
   "outputs": [],
   "source": [
    "parameters = {'n_neighbors': [5, 10],\n",
    "              'weights': ['uniform', 'distance'],\n",
    "              'algorithm': ['kd_tree',  'brute'],\n",
    "              'p': [1, 2],\n",
    "             }"
   ]
  },
  {
   "cell_type": "markdown",
   "id": "da3e0efd",
   "metadata": {},
   "source": [
    "on définit un objet de grid-search avec\n",
    "- le classifier à entraîner\n",
    "- le dictionnaire des paramètres à essayer\n",
    "\n",
    "\n",
    "et des paramètres comme  \n",
    "`scoring` qui indique la stratégie d'évaluation de la performance du modèle  \n",
    "(par défaut celle du classifier par exemple pour `KNeighborsClassifier.score`  \n",
    "c'est la *mean accuracy*  *nb correct predictions divided by total number of predictions*)\n",
    "\n",
    "`cv` par exemple un `5`  \n",
    "le jeu de données va être divisé en 5 ensembles   \n",
    "1 servira au test et les 4 autres à l'apprentissage  \n",
    "(il le fera donc 5 fois)\n",
    "\n",
    "\n",
    "pour utiliser `GridSearchCV`\n",
    "- la méthode `fit` lance tous les apprentissage\n",
    "- à la fin des apprentissages,  \n",
    "l'attribut `best_params_` contient le dictionnaire de la combinaison de paramètres choisie  \n",
    "l'attribut `cv_results_` indique des tas d'informations (à présenter en dataframe) \n",
    "\n",
    "\n"
   ]
  },
  {
   "cell_type": "code",
   "execution_count": null,
   "id": "f64bd231",
   "metadata": {},
   "outputs": [],
   "source": [
    "knn = KNeighborsClassifier()\n",
    "clf = GridSearchCV(knn, parameters,\n",
    "                   cv=5,\n",
    "                   verbose=3,\n",
    "                   return_train_score=True)\n",
    "clf.fit(X,y);"
   ]
  },
  {
   "cell_type": "code",
   "execution_count": null,
   "id": "fc5b2bbd",
   "metadata": {},
   "outputs": [],
   "source": [
    "clf.best_params_"
   ]
  },
  {
   "cell_type": "code",
   "execution_count": null,
   "id": "d1b49eb7",
   "metadata": {},
   "outputs": [],
   "source": [
    "pd.DataFrame(clf.cv_results_).head()"
   ]
  },
  {
   "cell_type": "code",
   "execution_count": null,
   "id": "ebddffd4",
   "metadata": {},
   "outputs": [],
   "source": [
    "df_results = pd.DataFrame(clf.cv_results_)\n",
    "df_results.head(2)"
   ]
  },
  {
   "cell_type": "code",
   "execution_count": null,
   "id": "a2a1fde5",
   "metadata": {},
   "outputs": [],
   "source": [
    "df_results.describe()"
   ]
  },
  {
   "cell_type": "code",
   "execution_count": null,
   "id": "9dc2ada0",
   "metadata": {},
   "outputs": [],
   "source": [
    "df_results[[c for c in df_results.columns if 'score' in c if 'split' in c if 'test' in c]].plot(figsize=(20, 10))"
   ]
  },
  {
   "cell_type": "code",
   "execution_count": null,
   "id": "5bbe4d02",
   "metadata": {},
   "outputs": [],
   "source": [
    "df_results[[c for c in df_results.columns if 'score' in c if 'split' in c]].plot(figsize=(20, 10))"
   ]
  },
  {
   "cell_type": "code",
   "execution_count": null,
   "id": "686ce888",
   "metadata": {},
   "outputs": [],
   "source": [
    "clf.score(X, y)"
   ]
  },
  {
   "cell_type": "markdown",
   "id": "0cdcca9e",
   "metadata": {},
   "source": [
    "## pipeline"
   ]
  },
  {
   "cell_type": "markdown",
   "id": "e5a5b473",
   "metadata": {},
   "source": [
    "quand les codes commencent à se complexifier    \n",
    "utiliser `Pipeline`"
   ]
  },
  {
   "cell_type": "code",
   "execution_count": null,
   "id": "748a3b07",
   "metadata": {},
   "outputs": [],
   "source": [
    "from sklearn.pipeline import Pipeline"
   ]
  },
  {
   "cell_type": "markdown",
   "id": "9f21fc50",
   "metadata": {},
   "source": [
    "nous voulons faire:\n",
    "une normalisation puis entraîner un prédicteur  \n",
    "et ceci dans un grid-search"
   ]
  },
  {
   "cell_type": "code",
   "execution_count": null,
   "id": "214ed66e",
   "metadata": {},
   "outputs": [],
   "source": [
    "pipe = Pipeline([\n",
    "        ('sc', StandardScaler()),     \n",
    "        ('knn', KNeighborsClassifier()) \n",
    "    ])\n",
    "\n",
    "# les noms des paramètres sont\n",
    "#   préfixés par le nom de l'objet auquel ils se rapportent puis __\n",
    "#   e.g.  knn__p\n",
    "params = {\n",
    "    'sc__with_mean' : [True, False],\n",
    "    'knn__n_neighbors': [3, 5, 7, 9, 11],\n",
    "    'knn__p' : [1, 2],\n",
    "    'knn__algorithm': ['kd_tree',  'brute'],\n",
    "    \n",
    "}  # 2 * 5 * 2 * 2 combinaisons\n",
    "\n",
    "clf_pipe = GridSearchCV(estimator=pipe,           \n",
    "                   param_grid=params, \n",
    "                   cv=5,\n",
    "                   return_train_score=True, # Turn on cv train scores\n",
    "                   verbose=1)\n",
    "clf_pipe.fit(X, y)\n",
    "clf_pipe.best_params_"
   ]
  },
  {
   "cell_type": "code",
   "execution_count": null,
   "id": "82c8e214",
   "metadata": {},
   "outputs": [],
   "source": [
    "clf_pipe.score(X, y)"
   ]
  },
  {
   "cell_type": "markdown",
   "id": "4c17fa05",
   "metadata": {},
   "source": [
    "erreur sur les classes"
   ]
  },
  {
   "cell_type": "code",
   "execution_count": null,
   "id": "21dc4a5a",
   "metadata": {},
   "outputs": [],
   "source": [
    "y_pred = clf_pipe.predict(X)"
   ]
  },
  {
   "cell_type": "code",
   "execution_count": null,
   "id": "cffda6e3",
   "metadata": {},
   "outputs": [],
   "source": [
    "np.mean(y_pred == y)"
   ]
  },
  {
   "cell_type": "code",
   "execution_count": null,
   "id": "e9c7eb51",
   "metadata": {},
   "outputs": [],
   "source": [
    "1 - np.mean(y_pred != y)"
   ]
  },
  {
   "cell_type": "markdown",
   "id": "01870974",
   "metadata": {},
   "source": [
    "## boxplot et histograms"
   ]
  },
  {
   "cell_type": "code",
   "execution_count": null,
   "id": "b76eea2e",
   "metadata": {},
   "outputs": [],
   "source": [
    "df_results = pd.DataFrame(clf_pipe.cv_results_)\n",
    "df_results.head(2)"
   ]
  },
  {
   "cell_type": "code",
   "execution_count": null,
   "id": "a1ace4a6",
   "metadata": {},
   "outputs": [],
   "source": [
    "df_results.describe()"
   ]
  },
  {
   "cell_type": "code",
   "execution_count": null,
   "id": "c43dd048",
   "metadata": {},
   "outputs": [],
   "source": [
    "df_results[[c for c in df_results.columns if 'score' in c if 'split' in c if 'test' in c]].plot(figsize=(20, 10))"
   ]
  },
  {
   "cell_type": "code",
   "execution_count": null,
   "id": "503f5410",
   "metadata": {},
   "outputs": [],
   "source": [
    "df_results[[c for c in df_results.columns if 'score' in c if 'split' in c]].plot(figsize=(20, 10))"
   ]
  },
  {
   "cell_type": "code",
   "execution_count": null,
   "id": "8acdde36",
   "metadata": {},
   "outputs": [],
   "source": [
    "df_iris = pd.read_csv('./iris.csv')\n",
    "df_iris.head()\n",
    "\n",
    "# on prend les valeurs numériques\n",
    "X = df_iris[df_iris.columns[0:-1]]"
   ]
  },
  {
   "cell_type": "code",
   "execution_count": null,
   "id": "cefef0de",
   "metadata": {},
   "outputs": [],
   "source": [
    "plt.rcParams['figure.figsize']=(10,5)\n",
    "X.plot(kind='box', subplots=True, layout=(2, 2), sharex=False, sharey=False)\n",
    "plt.tight_layout()"
   ]
  },
  {
   "cell_type": "code",
   "execution_count": null,
   "id": "e332208f",
   "metadata": {},
   "outputs": [],
   "source": [
    "plt.rcParams['figure.figsize']=(10,5)\n",
    "X.plot(kind='hist', bins=10, subplots=True, layout=(2, 2), sharex=False, sharey=False)\n",
    "plt.tight_layout()"
   ]
  },
  {
   "cell_type": "markdown",
   "id": "28a3d625",
   "metadata": {},
   "source": [
    "## heatmap"
   ]
  },
  {
   "cell_type": "code",
   "execution_count": null,
   "id": "274c9e0f",
   "metadata": {},
   "outputs": [],
   "source": [
    "df_results.plot()"
   ]
  },
  {
   "cell_type": "code",
   "execution_count": null,
   "id": "114fbb9d",
   "metadata": {},
   "outputs": [],
   "source": [
    "import seaborn as sns"
   ]
  },
  {
   "cell_type": "code",
   "execution_count": null,
   "id": "81eac448",
   "metadata": {},
   "outputs": [],
   "source": [
    "plt.figure(figsize=(8, 6))\n",
    "plt.title('Corrélations des attributs des observations')\n",
    "correlation = X.corr()\n",
    "a = sns.heatmap(correlation, annot=True, fmt='.2f')\n",
    "a.set_xticklabels(a.get_xticklabels(), rotation=90)\n",
    "a.set_yticklabels(a.get_yticklabels(), rotation=30);  "
   ]
  },
  {
   "cell_type": "markdown",
   "id": "d2a3c83c",
   "metadata": {},
   "source": [
    "END"
   ]
  }
 ],
 "metadata": {
  "kernelspec": {
   "display_name": "Python 3 (ipykernel)",
   "language": "python",
   "name": "python3"
  }
 },
 "nbformat": 4,
 "nbformat_minor": 5
}
