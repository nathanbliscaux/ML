{
 "cells": [
  {
   "cell_type": "markdown",
   "id": "2edbd3f5",
   "metadata": {},
   "source": [
    "capteurs:\n",
    "- 1 et 2 salle de cours\n",
    "- 3 et 4 bureaux"
   ]
  },
  {
   "cell_type": "code",
   "execution_count": null,
   "id": "0a3d5fb2",
   "metadata": {},
   "outputs": [],
   "source": [
    "import numpy as np\n",
    "import pandas as pd\n",
    "from matplotlib import pyplot as plt\n",
    "import seaborn as sns\n",
    "from IPython.display import display"
   ]
  },
  {
   "cell_type": "code",
   "execution_count": null,
   "id": "463e6b62",
   "metadata": {},
   "outputs": [],
   "source": [
    "!ls"
   ]
  },
  {
   "cell_type": "code",
   "execution_count": null,
   "id": "b1e07478",
   "metadata": {},
   "outputs": [],
   "source": [
    "files = [\n",
    "    # promo 2021-2022\n",
    "    './0_Export Donnees Parametres Ambiance du 07-01-22 a 08-04-22.xlsx',\n",
    "    './0_Reponses Questionnaire Confort du 14-02-22 au 31-03-22.xlsx',\n",
    "    # promo 2022-2023\n",
    "    './1_Export Donnees Parametres Ambiance du 25-07-22 a 23-11-22.xlsx', \n",
    "    './1_Reponses Questionnaire Confort du 26-09-22 au 23-11-22.xlsx', \n",
    "    \n",
    "    # réponses\n",
    "#     './Questions - Réponses.xlsx',\n",
    "        ]"
   ]
  },
  {
   "cell_type": "code",
   "execution_count": null,
   "id": "3001949f",
   "metadata": {},
   "outputs": [],
   "source": [
    "dfs = []\n",
    "for f in files:\n",
    "    dfs.append(pd.read_excel(f))"
   ]
  },
  {
   "cell_type": "code",
   "execution_count": null,
   "id": "c19896f8",
   "metadata": {},
   "outputs": [],
   "source": [
    "for df in dfs:\n",
    "    print(df.shape)\n",
    "    display(df.head(2))"
   ]
  },
  {
   "cell_type": "code",
   "execution_count": null,
   "id": "5ace9e07",
   "metadata": {},
   "outputs": [],
   "source": []
  }
 ],
 "metadata": {
  "kernelspec": {
   "display_name": "Python 3 (ipykernel)",
   "language": "python",
   "name": "python3"
  },
  "language_info": {
   "codemirror_mode": {
    "name": "ipython",
    "version": 3
   },
   "file_extension": ".py",
   "mimetype": "text/x-python",
   "name": "python",
   "nbconvert_exporter": "python",
   "pygments_lexer": "ipython3",
   "version": "3.9.12"
  }
 },
 "nbformat": 4,
 "nbformat_minor": 5
}
